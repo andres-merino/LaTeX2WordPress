{
 "cells": [
  {
   "cell_type": "markdown",
   "metadata": {},
   "source": [
    "# LaTeX2WordPress"
   ]
  },
  {
   "cell_type": "markdown",
   "metadata": {},
   "source": [
    "## Paquetes"
   ]
  },
  {
   "cell_type": "code",
   "execution_count": 1,
   "metadata": {},
   "outputs": [],
   "source": [
    "import LaTeX2WordPress as L2W"
   ]
  },
  {
   "cell_type": "markdown",
   "metadata": {},
   "source": [
    "## Convertir LaTeX a HTML"
   ]
  },
  {
   "cell_type": "code",
   "execution_count": 2,
   "metadata": {},
   "outputs": [
    {
     "name": "stdout",
     "output_type": "stream",
     "text": [
      "Convirtiendo archivo test/file.tex a HTML.\n",
      "Ejercicio de prueba\n"
     ]
    }
   ],
   "source": [
    "# Nombre del archivo\n",
    "archivo = \"test/file.tex\"\n",
    "\n",
    "# Convertir a HTML y guardar tema\n",
    "tema = L2W.LaTeX2HTML(archivo)\n",
    "\n",
    "print(tema)"
   ]
  },
  {
   "cell_type": "markdown",
   "metadata": {},
   "source": [
    "## Enviar a WordPress"
   ]
  },
  {
   "cell_type": "code",
   "execution_count": 3,
   "metadata": {},
   "outputs": [
    {
     "name": "stdout",
     "output_type": "stream",
     "text": [
      "Publicando en: https://alephsub0.org/\n",
      "Imagen subida exitosamente. ID: 4207\n",
      "Publicación creada con éxito.\n"
     ]
    }
   ],
   "source": [
    "# Portada\n",
    "portada = \"./test/Portada.jpeg\"\n",
    "\n",
    "# Subir a WordPress\n",
    "L2W.postWordPress(archivo.replace(\".tex\", \".html\"), tema, portada)"
   ]
  }
 ],
 "metadata": {
  "kernelspec": {
   "display_name": "Python 3",
   "language": "python",
   "name": "python3"
  },
  "language_info": {
   "codemirror_mode": {
    "name": "ipython",
    "version": 3
   },
   "file_extension": ".py",
   "mimetype": "text/x-python",
   "name": "python",
   "nbconvert_exporter": "python",
   "pygments_lexer": "ipython3",
   "version": "3.9.7"
  }
 },
 "nbformat": 4,
 "nbformat_minor": 2
}
